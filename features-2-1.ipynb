{
 "cells": [
  {
   "cell_type": "code",
   "outputs": [],
   "source": [
    "import pandas as pd"
   ],
   "metadata": {
    "collapsed": false,
    "ExecuteTime": {
     "end_time": "2024-04-06T00:54:38.479929Z",
     "start_time": "2024-04-06T00:54:38.470004Z"
    }
   },
   "id": "5628feb2cc916c65",
   "execution_count": 4
  },
  {
   "cell_type": "code",
   "outputs": [],
   "source": [
    "data = pd.read_csv('transaction_data.csv')"
   ],
   "metadata": {
    "collapsed": false,
    "ExecuteTime": {
     "end_time": "2024-04-06T00:54:46.390086Z",
     "start_time": "2024-04-06T00:54:38.483699Z"
    }
   },
   "id": "1f8a74e6fe41c373",
   "execution_count": 5
  },
  {
   "cell_type": "markdown",
   "source": [
    "# Feature 1: Difference in balance for origin and destination accounts\n",
    "**OrigBalanceDiff**: The difference between the original and new balance for the origin account, calculated as `oldbalanceOrg - newbalanceOrig`. This feature represents the change in the origin account's balance as a result of the transaction.\n",
    "\n",
    "**DestBalanceDiff**: The difference between the original and new balance for the destination account, calculated as `oldbalanceDest - newbalanceDest`. This feature indicates the change in the destination account's balance due to the transaction."
   ],
   "metadata": {
    "collapsed": false
   },
   "id": "860b8bb4738a00eb"
  },
  {
   "cell_type": "code",
   "outputs": [],
   "source": [
    "data['OrigBalanceDiff'] = data['oldbalanceOrg'] - data['newbalanceOrig']\n",
    "data['DestBalanceDiff'] = data['oldbalanceDest'] - data['newbalanceDest']"
   ],
   "metadata": {
    "collapsed": false,
    "ExecuteTime": {
     "end_time": "2024-04-06T00:56:59.341407Z",
     "start_time": "2024-04-06T00:56:59.110402Z"
    }
   },
   "id": "29c8fae972043371",
   "execution_count": 12
  },
  {
   "cell_type": "markdown",
   "source": [
    "# Feature 2: Zero balance flags\n",
    "\n",
    "**ZeroBalanceOrigFlag**: A binary flag that indicates whether the new balance of the origin account is zero after the transaction (`1` if `newbalanceOrig` is 0, else `0`).\n",
    "\n",
    "**ZeroBalanceDestFlag**: A binary flag that shows whether the new balance of the destination account is zero post-transaction (`1` if `newbalanceDest` is 0, else `0`)."
   ],
   "metadata": {
    "collapsed": false
   },
   "id": "6785b2f3a7e5edaf"
  },
  {
   "cell_type": "code",
   "outputs": [],
   "source": [
    "data['ZeroBalanceOrigFlag'] = (data['newbalanceOrig'] == 0).astype(int)\n",
    "data['ZeroBalanceDestFlag'] = (data['newbalanceDest'] == 0).astype(int)"
   ],
   "metadata": {
    "collapsed": false,
    "ExecuteTime": {
     "end_time": "2024-04-06T00:54:46.507765Z",
     "start_time": "2024-04-06T00:54:46.466607Z"
    }
   },
   "id": "27f0ad1588318a7a",
   "execution_count": 7
  },
  {
   "cell_type": "markdown",
   "source": [
    "# Feature 3: Account type (assuming 'M' stands for merchant and 'C' for customer)\n",
    "\n",
    "**OrigAccType**: A binary identifier indicating the type of the origin account: `1` if the account is a merchant (starting with 'M'), and `0` if it's a customer (starting with 'C').\n",
    "\n",
    "**DestAccType**: Similar to `OrigAccType`, this binary flag identifies whether the destination account is a merchant (`1`) or a customer (`0`)."
   ],
   "metadata": {
    "collapsed": false
   },
   "id": "f1c8f2eb5557faa0"
  },
  {
   "cell_type": "code",
   "outputs": [],
   "source": [
    "data['OrigAccType'] = data['nameOrig'].apply(lambda x: 1 if x.startswith('M') else 0)\n",
    "data['DestAccType'] = data['nameDest'].apply(lambda x: 1 if x.startswith('M') else 0)"
   ],
   "metadata": {
    "collapsed": false,
    "ExecuteTime": {
     "end_time": "2024-04-06T00:54:49.051031Z",
     "start_time": "2024-04-06T00:54:46.510007Z"
    }
   },
   "id": "bb7d37507f9ff0f9",
   "execution_count": 8
  },
  {
   "cell_type": "markdown",
   "source": [
    "# Feature 4: Transaction type one-hot encoding\n",
    "\n",
    "**Transaction Type One-Hot Encoding**: One-hot encoded features for the transaction type, creating individual columns like `type_PAYMENT`, `type_TRANSFER`, etc., indicating the type of transaction.\n",
    "\n",
    "**AmountToOriginBalanceRatio**: The ratio of the transaction amount to the old balance of the origin account, providing insight into the transaction's size relative to the account's initial balance. It's calculated as `amount / oldbalanceOrg` (with handling for division by zero)."
   ],
   "metadata": {
    "collapsed": false
   },
   "id": "582654e9af04eb72"
  },
  {
   "cell_type": "code",
   "outputs": [],
   "source": [
    "transaction_types = pd.get_dummies(data['type'], prefix='type')\n",
    "df = pd.concat([data, transaction_types], axis=1)"
   ],
   "metadata": {
    "collapsed": false,
    "ExecuteTime": {
     "end_time": "2024-04-06T00:54:50.411672Z",
     "start_time": "2024-04-06T00:54:49.097192Z"
    }
   },
   "id": "cf8848e3c605a938",
   "execution_count": 9
  },
  {
   "cell_type": "code",
   "outputs": [],
   "source": [
    "df['AmountToOriginBalanceRatio'] = df.apply(lambda x: x['amount'] / x['oldbalanceOrg'] if x['oldbalanceOrg'] != 0 else 0, axis=1)"
   ],
   "metadata": {
    "collapsed": false,
    "ExecuteTime": {
     "end_time": "2024-04-06T00:55:17.104818Z",
     "start_time": "2024-04-06T00:54:52.675051Z"
    }
   },
   "id": "890d8d49cb8d35cd",
   "execution_count": 10
  },
  {
   "cell_type": "markdown",
   "source": [
    "# Feature 5: Ratio of transaction amount to the old balance of the origin account (avoid division by zero)"
   ],
   "metadata": {
    "collapsed": false
   },
   "id": "973cdccd8f3a67f"
  },
  {
   "cell_type": "code",
   "outputs": [],
   "source": [
    "df.to_csv('modified_transaction_data.csv', index=False)"
   ],
   "metadata": {
    "collapsed": false,
    "ExecuteTime": {
     "end_time": "2024-04-06T00:55:52.942492Z",
     "start_time": "2024-04-06T00:55:17.108541Z"
    }
   },
   "id": "5b9ea43ea3a9ad7c",
   "execution_count": 11
  }
 ],
 "metadata": {
  "kernelspec": {
   "display_name": "Python 3",
   "language": "python",
   "name": "python3"
  },
  "language_info": {
   "codemirror_mode": {
    "name": "ipython",
    "version": 2
   },
   "file_extension": ".py",
   "mimetype": "text/x-python",
   "name": "python",
   "nbconvert_exporter": "python",
   "pygments_lexer": "ipython2",
   "version": "2.7.6"
  }
 },
 "nbformat": 4,
 "nbformat_minor": 5
}
