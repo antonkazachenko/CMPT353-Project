{
 "cells": [
  {
   "cell_type": "markdown",
   "metadata": {},
   "source": [
    "**Descriptive statistics**"
   ]
  },
  {
   "cell_type": "code",
   "execution_count": 5,
   "metadata": {
    "ExecuteTime": {
     "end_time": "2024-04-04T18:46:07.391717Z",
     "start_time": "2024-04-04T18:46:07.388129Z"
    }
   },
   "outputs": [],
   "source": [
    "import seaborn as sns\n",
    "import matplotlib.pyplot as plt\n",
    "import pandas as pd\n",
    "import numpy as np"
   ]
  },
  {
   "cell_type": "code",
   "execution_count": 6,
   "metadata": {
    "ExecuteTime": {
     "end_time": "2024-04-04T18:46:15.249191Z",
     "start_time": "2024-04-04T18:46:08.186582Z"
    }
   },
   "outputs": [],
   "source": [
    "data = pd.read_csv('transaction_data.csv')"
   ]
  },
  {
   "cell_type": "markdown",
   "source": [
    "## Remove duplicates"
   ],
   "metadata": {
    "collapsed": false
   }
  },
  {
   "cell_type": "code",
   "outputs": [
    {
     "name": "stdout",
     "output_type": "stream",
     "text": [
      "Row count before deduplication: 6362620\n",
      "Row count after deduplication: 6362620\n",
      "Number of rows removed: 0\n",
      "Fraud percentage before deduplication: 0.12908204481801522%\n",
      "Fraud percentage after deduplication: 0.12908204481801522%\n",
      "No duplicates were found.\n",
      "Fraud percentage remained the same after removing duplicates.\n"
     ]
    }
   ],
   "source": [
    "initial_row_count = len(data)\n",
    "initial_fraud_cases = data['isFraud'].sum()\n",
    "\n",
    "data_deduped = data.drop_duplicates()\n",
    "\n",
    "deduped_row_count = len(data_deduped)\n",
    "deduped_fraud_cases = data_deduped['isFraud'].sum()\n",
    "\n",
    "fraud_percentage_before = (initial_fraud_cases / initial_row_count) * 100\n",
    "fraud_percentage_after = (deduped_fraud_cases / deduped_row_count) * 100\n",
    "\n",
    "print(f\"Row count before deduplication: {initial_row_count}\")\n",
    "print(f\"Row count after deduplication: {deduped_row_count}\")\n",
    "print(f\"Number of rows removed: {initial_row_count - deduped_row_count}\")\n",
    "\n",
    "print(f\"Fraud percentage before deduplication: {fraud_percentage_before}%\")\n",
    "print(f\"Fraud percentage after deduplication: {fraud_percentage_after}%\")\n",
    "\n",
    "if initial_row_count == deduped_row_count:\n",
    "    print(\"No duplicates were found.\")\n",
    "else:\n",
    "    print(\"Duplicates were removed.\")\n",
    "\n",
    "if fraud_percentage_before == fraud_percentage_after:\n",
    "    print(\"Fraud percentage remained the same after removing duplicates.\")\n",
    "else:\n",
    "    print(\"Fraud percentage changed after removing duplicates.\")"
   ],
   "metadata": {
    "collapsed": false,
    "ExecuteTime": {
     "end_time": "2024-04-04T18:58:21.686477Z",
     "start_time": "2024-04-04T18:58:12.515340Z"
    }
   },
   "execution_count": 9
  },
  {
   "cell_type": "markdown",
   "source": [
    "# histograms (numerical)\n",
    "\n",
    "numerical_columns = ['step', 'amount', 'oldbalanceOrg', 'newbalanceOrig', 'oldbalanceDest', 'newbalanceDest']\n",
    "numerical_data = data[numerical_columns]\n",
    "numerical_data.hist(figsize=(10, 8))\n",
    "plt.tight_layout()\n",
    "plt.show()\n"
   ],
   "metadata": {
    "collapsed": false
   }
  },
  {
   "cell_type": "code",
   "execution_count": null,
   "metadata": {
    "ExecuteTime": {
     "end_time": "2024-04-04T18:46:04.813015Z",
     "start_time": "2024-04-04T18:46:04.811238Z"
    }
   },
   "outputs": [],
   "source": [
    "#box plot (numerical)\n",
    "\n",
    "plt.figure(figsize=(10,8))\n",
    "sns.boxplot(data=numerical_data)\n",
    "plt.show()"
   ]
  },
  {
   "cell_type": "code",
   "execution_count": null,
   "metadata": {
    "ExecuteTime": {
     "start_time": "2024-04-04T18:46:04.812156Z"
    }
   },
   "outputs": [],
   "source": [
    "# matix scatter plot (numerical)\n",
    "\n",
    "numerical_data_sample = numerical_data.sample(frac=0.2)\n",
    "print(\"Sample size: {} ({}%)\".format(numerical_data_sample.shape[0], round((numerical_data_sample.shape[0]/data.shape[0])*100,3)))\n",
    "sns.pairplot(numerical_data_sample)\n",
    "plt.show()"
   ]
  },
  {
   "cell_type": "code",
   "execution_count": null,
   "metadata": {
    "ExecuteTime": {
     "end_time": "2024-04-04T18:46:04.813636Z",
     "start_time": "2024-04-04T18:46:04.813261Z"
    }
   },
   "outputs": [],
   "source": [
    "# correlation matrix (numerical)\n",
    "\n",
    "corr_matrix = numerical_data.corr()\n",
    "sns.heatmap(corr_matrix, annot=True, cmap='coolwarm', fmt=\".3f\")\n",
    "plt.show()"
   ]
  },
  {
   "cell_type": "code",
   "execution_count": null,
   "metadata": {
    "ExecuteTime": {
     "start_time": "2024-04-04T18:46:04.814414Z"
    }
   },
   "outputs": [],
   "source": [
    "# bar plot (categorical)\n",
    "\n",
    "plt.figure(figsize=(8,6))\n",
    "sns.countplot(x='type', data=data)\n",
    "plt.show()\n",
    "\n",
    "# nameOrig and nameDest plots are not informative\n",
    "# plt.figure(figsize=(8,6))\n",
    "# sns.countplot(x='nameOrig', data=sampled_data)\n",
    "# plt.show()\n",
    "\n",
    "# plt.figure(figsize=(8,6))\n",
    "# sns.countplot(x='nameDest', data=sampled_data)\n",
    "# plt.show()\n"
   ]
  },
  {
   "cell_type": "code",
   "execution_count": null,
   "metadata": {
    "ExecuteTime": {
     "start_time": "2024-04-04T18:46:04.815614Z"
    }
   },
   "outputs": [],
   "source": [
    "# labels\n",
    "\n",
    "num_isFraud = data['isFraud'].sum()\n",
    "print('isFraud transactions: {} ({}%)'.format(num_isFraud, (num_isFraud/data.shape[0])*100))\n",
    "\n",
    "num_isFlaggedFraud = data['isFlaggedFraud'].sum()\n",
    "print('isFlaggedFraud transactions: {} ({}%)'.format(num_isFlaggedFraud, (num_isFlaggedFraud/data.shape[0])*100))"
   ]
  },
  {
   "cell_type": "code",
   "execution_count": null,
   "metadata": {
    "ExecuteTime": {
     "start_time": "2024-04-04T18:46:04.816820Z"
    }
   },
   "outputs": [],
   "source": [
    "# removing outliers (bad option)\n",
    "\n",
    "numerical_cols = ['amount', 'oldbalanceOrg', 'oldbalanceDest']\n",
    "Q1 = data[numerical_cols].quantile(0.25)\n",
    "Q3 = data[numerical_cols].quantile(0.75)\n",
    "IQR = Q3 - Q1\n",
    "outlier_condition = ((data[numerical_cols] < (Q1 - 1.5 * IQR)) | (data[numerical_cols] > (Q3 + 1.5 * IQR))).any(axis=1)\n",
    "data_no_outliers = data[~outlier_condition]\n",
    "\n",
    "diff = data.shape[0]-data_no_outliers.shape[0]\n",
    "print(\"Data size: {}\\nRemoved: {} ({}%)\".format(data_no_outliers.shape[0], diff, round((diff/data.shape[0])*100),3))\n",
    "no_outliers_isFraud = data_no_outliers['isFlaggedFraud'].sum()\n",
    "print(\"isFraud transactions in no outliers data: {}\".format(no_outliers_isFraud))"
   ]
  },
  {
   "cell_type": "code",
   "execution_count": null,
   "metadata": {
    "ExecuteTime": {
     "end_time": "2024-04-04T18:46:04.820856Z",
     "start_time": "2024-04-04T18:46:04.817588Z"
    }
   },
   "outputs": [],
   "source": [
    "# normailze data (mean 0, dev 1)\n",
    "def z_normalize(data):\n",
    "    mean = data.mean()\n",
    "    std = data.std()\n",
    "    normalized_data = (data - mean) / std\n",
    "    return normalized_data\n",
    "\n",
    "normalized_data = data.copy()\n",
    "normalization_cols = ['step', 'amount', 'oldbalanceOrg', 'newbalanceOrig', 'oldbalanceDest', 'newbalanceDest']\n",
    "normalized_data[normalization_cols] = z_normalize(normalized_data[normalization_cols])\n"
   ]
  },
  {
   "cell_type": "code",
   "execution_count": null,
   "metadata": {
    "ExecuteTime": {
     "start_time": "2024-04-04T18:46:04.818714Z"
    }
   },
   "outputs": [],
   "source": [
    "# box plot of normalized data\n",
    "\n",
    "plt.figure(figsize=(10,8))\n",
    "sns.boxplot(data=normalized_data)\n",
    "plt.show()"
   ]
  }
 ],
 "metadata": {
  "kernelspec": {
   "display_name": "Python 3",
   "language": "python",
   "name": "python3"
  },
  "language_info": {
   "codemirror_mode": {
    "name": "ipython",
    "version": 3
   },
   "file_extension": ".py",
   "mimetype": "text/x-python",
   "name": "python",
   "nbconvert_exporter": "python",
   "pygments_lexer": "ipython3",
   "version": "3.10.5"
  }
 },
 "nbformat": 4,
 "nbformat_minor": 2
}
